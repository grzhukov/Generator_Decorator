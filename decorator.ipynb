{
 "cells": [
  {
   "cell_type": "code",
   "execution_count": null,
   "metadata": {},
   "outputs": [],
   "source": [
    "Опр.1: Декоратор - это функция, которая принимает на вход некотрую функцию,\n",
    "       добавляет новые возможности и возвращает улучшенный результат."
   ]
  },
  {
   "cell_type": "code",
   "execution_count": 4,
   "metadata": {},
   "outputs": [
    {
     "name": "stdout",
     "output_type": "stream",
     "text": [
      "Start decorator\n",
      "Hello, world!\n",
      "Finish decorator\n"
     ]
    }
   ],
   "source": [
    "# 1.\n",
    "def decorator(func):\n",
    "    def inner():\n",
    "        print('Start decorator')\n",
    "        func()\n",
    "        print('Finish decorator')\n",
    "    return inner\n",
    "\n",
    "def say():\n",
    "    print('Hello, world!')\n",
    "    \n",
    "say = decorator(say) # не вижу разницу, если присвоить в переменную\n",
    "say() # Важно, что в функии say() хранится ссылка на inner"
   ]
  },
  {
   "cell_type": "code",
   "execution_count": 6,
   "metadata": {},
   "outputs": [
    {
     "name": "stdout",
     "output_type": "stream",
     "text": [
      "Start decorator\n",
      "Hello, Vasya Ivanov\n",
      "Finish decorator\n"
     ]
    }
   ],
   "source": [
    "# 2.\n",
    "def decorator(func):\n",
    "    def inner(x, y):              # Совет: если пишем декоратор, лучше пробрасываться через *args, **kwargs\n",
    "        print('Start decorator')\n",
    "        func(x, y)                # *args, **kwargs \n",
    "        print('Finish decorator')\n",
    "    return inner\n",
    "\n",
    "def say(name, surname):\n",
    "    print(f'Hello, {name} {surname}')\n",
    "    \n",
    "say = decorator(say) \n",
    "say('Vasya', 'Ivanov')"
   ]
  },
  {
   "cell_type": "code",
   "execution_count": 11,
   "metadata": {},
   "outputs": [
    {
     "name": "stdout",
     "output_type": "stream",
     "text": [
      "h1\n",
      "Hello, Vasya Ivanov 30\n",
      "/h1\n"
     ]
    }
   ],
   "source": [
    "# 3. Важно: say = decorator(say) - так не декорируют.\n",
    "\n",
    "def header(func):\n",
    "    def inner(*args, **kwargs):\n",
    "        print('h1')\n",
    "        func(*args, **kwargs)\n",
    "        print('/h1')\n",
    "    return inner\n",
    "\n",
    "@header  # say = header(say)\n",
    "def say(name, surname, age):\n",
    "    print(f'Hello, {name} {surname} {age}')\n",
    "    \n",
    "say('Vasya', 'Ivanov', 30)"
   ]
  },
  {
   "cell_type": "code",
   "execution_count": 14,
   "metadata": {},
   "outputs": [
    {
     "name": "stdout",
     "output_type": "stream",
     "text": [
      "table\n",
      "h1\n",
      "Hello, Vasya Ivanov 30\n",
      "/h1\n",
      "/table\n"
     ]
    }
   ],
   "source": [
    "# 4.\n",
    "def header(func):\n",
    "    def inner(*args, **kwargs):\n",
    "        print('h1')\n",
    "        func(*args, **kwargs)\n",
    "        print('/h1')\n",
    "    return inner\n",
    "\n",
    "def table(func):\n",
    "    def inner(*args, **kwargs):\n",
    "        print('table')\n",
    "        func(*args, **kwargs)\n",
    "        print('/table')\n",
    "    return inner\n",
    "    \n",
    "@table\n",
    "@header  # say = table(header(say))\n",
    "def say(name, surname, age):\n",
    "    print(f'Hello, {name} {surname} {age}')\n",
    "    \n",
    "    \n",
    "say('Vasya', 'Ivanov', 30)"
   ]
  },
  {
   "cell_type": "code",
   "execution_count": 21,
   "metadata": {},
   "outputs": [
    {
     "name": "stdout",
     "output_type": "stream",
     "text": [
      "table\n",
      "25\n",
      "/table\n"
     ]
    }
   ],
   "source": [
    "# 5. Чтобы не было потери имени и внутреннего содержимого декорируемой функции.\n",
    "from functools import wraps\n",
    "\n",
    "def table(func):\n",
    "    \n",
    "    @wraps(func)\n",
    "    def inner(*args, **kwargs):\n",
    "        print('table')\n",
    "        func(*args, **kwargs)\n",
    "        print('/table')\n",
    "    return inner\n",
    "\n",
    "@table\n",
    "def sq(x):\n",
    "    print(x**2)     # вопрос: если пишу return, то не выводит.\n",
    "              \n",
    "sq(5)              "
   ]
  },
  {
   "cell_type": "code",
   "execution_count": 28,
   "metadata": {},
   "outputs": [
    {
     "data": {
      "text/plain": [
       "15"
      ]
     },
     "execution_count": 28,
     "metadata": {},
     "output_type": "execute_result"
    }
   ],
   "source": [
    "# 6. Параметрический декоратор.\n",
    "def multiply(n):  # когда не параметрический декоратор, то на один уровень вложенности меньше.\n",
    "    def wrapper_high_level(function):\n",
    "        \n",
    "        def wrapper_low_level(*args, **kwargs):\n",
    "            return function(*args, **kwargs) * n\n",
    "        \n",
    "        return wrapper_low_level\n",
    "    \n",
    "    return wrapper_high_level\n",
    "\n",
    "@multiply(3)\n",
    "def func(x, y):\n",
    "    return x + y\n",
    "    \n",
    "func(2, 3)"
   ]
  },
  {
   "cell_type": "code",
   "execution_count": 11,
   "metadata": {},
   "outputs": [
    {
     "name": "stdout",
     "output_type": "stream",
     "text": [
      "0.06704401969909668\n",
      "549755289600\n"
     ]
    }
   ],
   "source": [
    "# 7. Сколько времени работает функция.\n",
    "import time\n",
    "# time.time() - 1615986754.5653062\n",
    "\n",
    "def my_timeit(func):\n",
    "    \n",
    "    def inner(*args, **kwargs): # У вложенной функции должны быть тежи аргументы, что и у func и возвращает она тоже значение, что и func аналогично\n",
    "        t_0 = time.time()\n",
    "        f = func(*args, **kwargs)\n",
    "        t_1 = time.time() - t_0\n",
    "        print(t_1)\n",
    "        return f\n",
    "    \n",
    "    return inner\n",
    "    \n",
    "        \n",
    "@my_timeit\n",
    "def some_long_function():\n",
    "    c = 0\n",
    "    for i in range(1024**2):\n",
    "        c += i\n",
    "    return c\n",
    "\n",
    "    \n",
    "print(some_long_function())"
   ]
  }
 ],
 "metadata": {
  "kernelspec": {
   "display_name": "Python 3",
   "language": "python",
   "name": "python3"
  },
  "language_info": {
   "codemirror_mode": {
    "name": "ipython",
    "version": 3
   },
   "file_extension": ".py",
   "mimetype": "text/x-python",
   "name": "python",
   "nbconvert_exporter": "python",
   "pygments_lexer": "ipython3",
   "version": "3.8.6"
  }
 },
 "nbformat": 4,
 "nbformat_minor": 4
}
