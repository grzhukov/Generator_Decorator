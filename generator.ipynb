{
 "cells": [
  {
   "cell_type": "code",
   "execution_count": 7,
   "metadata": {},
   "outputs": [
    {
     "name": "stdout",
     "output_type": "stream",
     "text": [
      "1 2 3 4 5 6 7 8 9 "
     ]
    }
   ],
   "source": [
    "# 1. Напишите генератор, который создает плоскую последовательность.\n",
    "# [1, 2, 3, [4, 5, 6], 7, [8,9]] -> [1, 2, 3, 4, 5, 6, 7, 8, 9]\n",
    "\n",
    "A = [1, 2, 3, [4, 5, 6], 7, [8,9]]\n",
    "\n",
    "def gen_2(B):                     \n",
    "    for i in range(len(B)):\n",
    "        if isinstance(B[i], list):\n",
    "        # if type(B[i]) == list:\n",
    "            yield from B[i]\n",
    "        else:\n",
    "            yield B[i]\n",
    "                   \n",
    "for i in gen_2(A):\n",
    "    print(i, end=' ')"
   ]
  },
  {
   "cell_type": "code",
   "execution_count": 54,
   "metadata": {},
   "outputs": [
    {
     "name": "stdout",
     "output_type": "stream",
     "text": [
      "1 2 3 4 5 6 7 8 9 "
     ]
    }
   ],
   "source": [
    "A = [1, 2, 3, [4, 5, 6], 7, [8,9]]\n",
    "for i in range(len(A)):\n",
    "    if type(A[i]) == list:\n",
    "        for j in A[i]:\n",
    "            print(j, end=' ')\n",
    "    else:\n",
    "        print(A[i], end=' ')\n",
    "        "
   ]
  },
  {
   "cell_type": "code",
   "execution_count": 10,
   "metadata": {},
   "outputs": [
    {
     "name": "stdout",
     "output_type": "stream",
     "text": [
      "3 13 "
     ]
    }
   ],
   "source": [
    "# 2. Создайте генератор, который создаст список только из тех чисел, которые оканчиваются на 3.\n",
    "# 1. число могу перевести в строку, но не в список?\n",
    "# 2. как в цикле каждый раз вводить через input?\n",
    "A = [-3, 1, 2, 3, 13]\n",
    "\n",
    "def gen_4(args):            # когда пишу *args от списка - как один аргумент\n",
    "    for i in args:\n",
    "        b = str(i)\n",
    "        if b[-1] == '3':\n",
    "            yield i          \n",
    "for i in gen_4(A):\n",
    "    print(i, end=' ')"
   ]
  },
  {
   "cell_type": "code",
   "execution_count": 11,
   "metadata": {},
   "outputs": [
    {
     "name": "stdout",
     "output_type": "stream",
     "text": [
      "3\n",
      "13\n"
     ]
    }
   ],
   "source": [
    "A = [-3, 1, 2, 3, 13]\n",
    "\n",
    "def gen_4(args):            \n",
    "    for i in args:\n",
    "        if i % 10 == 3:\n",
    "            yield i\n",
    "            \n",
    "for i in gen_4(A):\n",
    "    print(i)"
   ]
  },
  {
   "cell_type": "code",
   "execution_count": 12,
   "metadata": {},
   "outputs": [
    {
     "name": "stdout",
     "output_type": "stream",
     "text": [
      "1 3 6 10 15 "
     ]
    }
   ],
   "source": [
    "# 3. Создатайте итератор, в котором каждый элемент будет суммой всех элементов до него.\n",
    "# [1, 2, 3, 4, 5] -> [1, 3, 6, 10, 15]\n",
    "A = [1, 2, 3, 4, 5]\n",
    "B = []\n",
    "a = (sum(A[:i+1]) for i in range(len(A)))\n",
    "for i in a:\n",
    "    print(i, end=' ')"
   ]
  },
  {
   "cell_type": "code",
   "execution_count": 13,
   "metadata": {},
   "outputs": [
    {
     "name": "stdout",
     "output_type": "stream",
     "text": [
      "1 2 3 4 5 6 H E L L O "
     ]
    }
   ],
   "source": [
    "# 4. chain([1, 2, 3], [4, 5, 6], \"HELLO\", 9)\n",
    "# yield from всегда можно заменить yield, если напишем дополнит цикл\n",
    "def gen_11(*args):\n",
    "    for i in args:\n",
    "        yield from i\n",
    "for i in gen_11([1, 2, 3], [4, 5, 6], \"HELLO\"):\n",
    "    print(i, end=' ')"
   ]
  },
  {
   "cell_type": "code",
   "execution_count": 14,
   "metadata": {},
   "outputs": [
    {
     "name": "stdout",
     "output_type": "stream",
     "text": [
      "[4, 5, 6, 7, 8]\n"
     ]
    }
   ],
   "source": [
    "# 5.\n",
    "def filter(func, lst):\n",
    "    for i in lst:\n",
    "        if func(i):\n",
    "            yield i\n",
    "            \n",
    "print([x for x in filter(lambda x: x > 3, [1, 2, 3, 4, 5, 6, 7, 8])])"
   ]
  },
  {
   "cell_type": "code",
   "execution_count": 15,
   "metadata": {},
   "outputs": [
    {
     "name": "stdin",
     "output_type": "stream",
     "text": [
      " 1 2 3 4 5\n"
     ]
    },
    {
     "name": "stdout",
     "output_type": "stream",
     "text": [
      "1 3 5 "
     ]
    }
   ],
   "source": [
    "# 6_1.\n",
    "mylist = list(map(int,input().split()))\n",
    "a = mylist[::2]\n",
    "for i in a:\n",
    "    print(i, end = ' ' )"
   ]
  },
  {
   "cell_type": "code",
   "execution_count": 16,
   "metadata": {},
   "outputs": [
    {
     "name": "stdin",
     "output_type": "stream",
     "text": [
      " 1 2 3 4 5\n"
     ]
    },
    {
     "name": "stdout",
     "output_type": "stream",
     "text": [
      "1 3 5 "
     ]
    }
   ],
   "source": [
    "# 6_2.\n",
    "mylist = list(map(int,input().split(' ')))\n",
    "def gen_1(a):\n",
    "    for i in range(len(a)):\n",
    "        if i % 2 == 0:\n",
    "            yield a[i]\n",
    "    \n",
    "for i in gen_1(mylist):\n",
    "    print(i, end=' ')"
   ]
  },
  {
   "cell_type": "code",
   "execution_count": 17,
   "metadata": {},
   "outputs": [
    {
     "name": "stdin",
     "output_type": "stream",
     "text": [
      " 1 2 3 4 5\n"
     ]
    },
    {
     "name": "stdout",
     "output_type": "stream",
     "text": [
      "1 3 5 "
     ]
    }
   ],
   "source": [
    "# 6_3.\n",
    "mylist = list(map(int,input().split(' ')))\n",
    "def gen_1(a):\n",
    "    \n",
    "    for i in range(0, len(a), 2):\n",
    "            yield a[i]\n",
    "    \n",
    "for i in gen_1(mylist):\n",
    "    print(i, end=' ')"
   ]
  },
  {
   "cell_type": "code",
   "execution_count": null,
   "metadata": {},
   "outputs": [],
   "source": []
  }
 ],
 "metadata": {
  "kernelspec": {
   "display_name": "Python 3",
   "language": "python",
   "name": "python3"
  },
  "language_info": {
   "codemirror_mode": {
    "name": "ipython",
    "version": 3
   },
   "file_extension": ".py",
   "mimetype": "text/x-python",
   "name": "python",
   "nbconvert_exporter": "python",
   "pygments_lexer": "ipython3",
   "version": "3.8.6"
  }
 },
 "nbformat": 4,
 "nbformat_minor": 4
}
